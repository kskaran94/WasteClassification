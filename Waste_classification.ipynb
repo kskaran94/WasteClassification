{
  "nbformat": 4,
  "nbformat_minor": 0,
  "metadata": {
    "colab": {
      "name": "Waste classification",
      "version": "0.3.2",
      "provenance": [],
      "collapsed_sections": [],
      "include_colab_link": true
    },
    "kernelspec": {
      "name": "python3",
      "display_name": "Python 3"
    },
    "accelerator": "GPU"
  },
  "cells": [
    {
      "cell_type": "markdown",
      "metadata": {
        "id": "view-in-github",
        "colab_type": "text"
      },
      "source": [
        "<a href=\"https://colab.research.google.com/github/kskaran94/WasteClassification/blob/master/Waste_classification.ipynb\" target=\"_parent\"><img src=\"https://colab.research.google.com/assets/colab-badge.svg\" alt=\"Open In Colab\"/></a>"
      ]
    },
    {
      "cell_type": "markdown",
      "metadata": {
        "id": "lDUyqRJYzxQL",
        "colab_type": "text"
      },
      "source": [
        "## Libraries Imported"
      ]
    },
    {
      "cell_type": "code",
      "metadata": {
        "id": "mRnJbyjEbFdj",
        "colab_type": "code",
        "colab": {}
      },
      "source": [
        "from google.colab import files\n",
        "import json\n",
        "import numpy as np\n",
        "import pandas as pd\n",
        "from tensorflow.keras.layers import Conv2D, MaxPooling2D, Flatten, Activation, \\\n",
        "Dense, Dropout, Input, add\n",
        "from tensorflow.keras import Sequential\n",
        "from tensorflow.keras.layers import BatchNormalization\n",
        "from tensorflow.keras.preprocessing.image import ImageDataGenerator\n",
        "from tensorflow.keras.models import Sequential, Model, save_model, load_model\n",
        "from tensorflow.keras.callbacks import EarlyStopping, ModelCheckpoint\n",
        "from sklearn.metrics import accuracy_score, roc_auc_score, precision_score, \\\n",
        " recall_score, confusion_matrix, precision_recall_curve\n",
        "from tensorflow.keras.models import save_model, load_model\n",
        "import seaborn as sns\n",
        "import matplotlib.pyplot as plt\n",
        "import shutil\n",
        "import os\n",
        "import random\n",
        "import time"
      ],
      "execution_count": 0,
      "outputs": []
    },
    {
      "cell_type": "markdown",
      "metadata": {
        "id": "-hIpW4ZSz9IT",
        "colab_type": "text"
      },
      "source": [
        "## Download Data from Kaggle"
      ]
    },
    {
      "cell_type": "code",
      "metadata": {
        "id": "2F0pZg5gbV88",
        "colab_type": "code",
        "outputId": "f7ddb22c-70e6-4a51-8e87-07c7c10066ca",
        "colab": {
          "base_uri": "https://localhost:8080/",
          "height": 85
        }
      },
      "source": [
        "!pip install -q kaggle\n",
        "\n",
        "!mkdir -p ~/.kaggle\n",
        "!cp kaggle.json ~/.kaggle/\n",
        "\n",
        "token = {\"username\":\"kskaran94\",\"key\":\"e845a1f4ce47bb7f34dc6ec9f108f676\"}\n",
        "with open('/root/.kaggle/kaggle.json', 'w') as file:\n",
        "    json.dump(token, file)\n",
        "    \n",
        "! chmod 600 /root/.kaggle/kaggle.json\n",
        "\n",
        "! kaggle datasets download -d techsash/waste-classification-data"
      ],
      "execution_count": 2,
      "outputs": [
        {
          "output_type": "stream",
          "text": [
            "cp: cannot stat 'kaggle.json': No such file or directory\n",
            "Downloading waste-classification-data.zip to /content\n",
            " 96% 217M/225M [00:05<00:00, 43.3MB/s]\n",
            "100% 225M/225M [00:05<00:00, 44.2MB/s]\n"
          ],
          "name": "stdout"
        }
      ]
    },
    {
      "cell_type": "code",
      "metadata": {
        "id": "Rb_vLYJ9sCL7",
        "colab_type": "code",
        "colab": {}
      },
      "source": [
        "!unzip waste-classification-data.zip"
      ],
      "execution_count": 0,
      "outputs": []
    },
    {
      "cell_type": "markdown",
      "metadata": {
        "id": "24IleLXh0WQS",
        "colab_type": "text"
      },
      "source": [
        "## Dataset File Structure"
      ]
    },
    {
      "cell_type": "markdown",
      "metadata": {
        "id": "c1qIDRGl791v",
        "colab_type": "text"
      },
      "source": [
        "The first step after downloading the data would be to look at the data set file structure. "
      ]
    },
    {
      "cell_type": "code",
      "metadata": {
        "id": "KNwVsNcL0Vkx",
        "colab_type": "code",
        "outputId": "84afc609-5f1e-422a-8078-4b68349cb246",
        "colab": {
          "base_uri": "https://localhost:8080/",
          "height": 34
        }
      },
      "source": [
        "!ls DATASET/"
      ],
      "execution_count": 0,
      "outputs": [
        {
          "output_type": "stream",
          "text": [
            "TEST  TRAIN\n"
          ],
          "name": "stdout"
        }
      ]
    },
    {
      "cell_type": "markdown",
      "metadata": {
        "id": "ViWSSJ8g8Ge9",
        "colab_type": "text"
      },
      "source": [
        "We, see that the dataset has pre-defined train and test splits. We are missing a validation and before any modling or configuration, the task would be to construct a validation set from the existing train test. At this point, test set is untouched."
      ]
    },
    {
      "cell_type": "code",
      "metadata": {
        "id": "yfPZBLgj0KLR",
        "colab_type": "code",
        "outputId": "0e14fb19-89e5-4cf7-ce61-6e502061c125",
        "colab": {
          "base_uri": "https://localhost:8080/",
          "height": 34
        }
      },
      "source": [
        "!ls DATASET/TRAIN/"
      ],
      "execution_count": 0,
      "outputs": [
        {
          "output_type": "stream",
          "text": [
            "O  R\n"
          ],
          "name": "stdout"
        }
      ]
    },
    {
      "cell_type": "markdown",
      "metadata": {
        "id": "FDZpL6ai8onH",
        "colab_type": "text"
      },
      "source": [
        "## Objective"
      ]
    },
    {
      "cell_type": "markdown",
      "metadata": {
        "id": "ROzcrbc88uK7",
        "colab_type": "text"
      },
      "source": [
        "Build a image classifier to correctly identify Recyclable and Organic waste.  This would help government authorities reduce toxic waste in landfills. Thereby reducing land pollution."
      ]
    },
    {
      "cell_type": "markdown",
      "metadata": {
        "id": "rlIAeJSq9v3S",
        "colab_type": "text"
      },
      "source": [
        "## Util Functions"
      ]
    },
    {
      "cell_type": "markdown",
      "metadata": {
        "id": "ZlZ1FWfX9gw2",
        "colab_type": "text"
      },
      "source": [
        "All the custom functions used in the notebook can be found in this block."
      ]
    },
    {
      "cell_type": "markdown",
      "metadata": {
        "id": "2fQx3wChDV5I",
        "colab_type": "text"
      },
      "source": [
        "### Copying files"
      ]
    },
    {
      "cell_type": "markdown",
      "metadata": {
        "id": "iaYzd0d6C8bd",
        "colab_type": "text"
      },
      "source": [
        "Function copies given file_nams from source to destination using shutil"
      ]
    },
    {
      "cell_type": "code",
      "metadata": {
        "id": "VCm22yNPC15Q",
        "colab_type": "code",
        "colab": {}
      },
      "source": [
        "def copyfiles(file_names, dest, src_path):\n",
        "    for file in file_names:\n",
        "        full_file_name = os.path.join(src_path, file)\n",
        "        if os.path.isfile(full_file_name):\n",
        "            shutil.copy(full_file_name, dest)"
      ],
      "execution_count": 0,
      "outputs": []
    },
    {
      "cell_type": "markdown",
      "metadata": {
        "id": "eTLQatQgDaG5",
        "colab_type": "text"
      },
      "source": [
        "### Train Validation Split"
      ]
    },
    {
      "cell_type": "markdown",
      "metadata": {
        "id": "8KdzyfEyDiy_",
        "colab_type": "text"
      },
      "source": [
        "Function takes a path of a directory and percentage of train to split the data into train and validation. Sklearn's train_test_split works only with dataframes /arrays. This function is written for  directory-file structure."
      ]
    },
    {
      "cell_type": "code",
      "metadata": {
        "id": "Rv2s0zKo0ihd",
        "colab_type": "code",
        "colab": {}
      },
      "source": [
        "def train_val_test_split(path, perc):\n",
        "    train_string  = 'train/'\n",
        "    val_string  = 'val/' \n",
        "    dest_path = '/content/'\n",
        "    try:\n",
        "        os.mkdir(dest_path + train_string)\n",
        "        os.mkdir(dest_path + val_string)\n",
        "    except:\n",
        "        shutil.rmtree(dest_path + train_string)\n",
        "        shutil.rmtree(dest_path + val_string)\n",
        "        os.mkdir(dest_path + train_string)\n",
        "        os.mkdir(dest_path + val_string)\n",
        "    \n",
        "    sub_direc = os.listdir(path=path)\n",
        "    \n",
        "    for sub in sub_direc:\n",
        "      if sub in ['O','R']:\n",
        "        try:\n",
        "            shutil.rmtree(dest_path + train_string + sub)\n",
        "            shutil.rmtree(dest_path + val_string + sub)\n",
        "        except:\n",
        "            os.makedirs(dest_path+train_string+sub)\n",
        "            os.makedirs(dest_path+val_string+sub)\n",
        "        src_path = path + sub\n",
        "        filenames = os.listdir(src_path)\n",
        "        filenames.sort()  \n",
        "        # make sure that the filenames have a fixed order before shuffling\n",
        "        random.shuffle(filenames) \n",
        "        # shuffles the ordering of filenames (deterministic given the chosen seed)\n",
        "\n",
        "        split_1 = int(perc * len(filenames))\n",
        "        train_filenames = filenames[:split_1]\n",
        "        val_filenames = filenames[split_1:]\n",
        "\n",
        "        copyfiles(train_filenames, dest_path+train_string+sub, src_path)\n",
        "        ## train set path for all classes\n",
        "        copyfiles(val_filenames, dest_path+val_string+sub, src_path)\n",
        "        ## validation set path for all classes\n"
      ],
      "execution_count": 0,
      "outputs": []
    },
    {
      "cell_type": "code",
      "metadata": {
        "id": "iQm0ArzuGyj-",
        "colab_type": "code",
        "colab": {}
      },
      "source": [
        "train_val_test_split('DATASET/TRAIN/', 0.8)"
      ],
      "execution_count": 0,
      "outputs": []
    },
    {
      "cell_type": "markdown",
      "metadata": {
        "id": "ZubJ2DchHcoE",
        "colab_type": "text"
      },
      "source": [
        "### Predict from generator"
      ]
    },
    {
      "cell_type": "code",
      "metadata": {
        "id": "zjQe1dSYHafn",
        "colab_type": "code",
        "colab": {}
      },
      "source": [
        "def predict_from_generator(generator, model): \n",
        "    pred = model.predict_generator(generator)\n",
        "    predicted_class_indices = np.argmax(pred, axis = -1)\n",
        "    classes = generator.classes[generator.index_array]\n",
        "    return predicted_class_indices, classes"
      ],
      "execution_count": 0,
      "outputs": []
    },
    {
      "cell_type": "markdown",
      "metadata": {
        "id": "8fPzxLgNEHlc",
        "colab_type": "text"
      },
      "source": [
        "## Data Preparation and Configuration"
      ]
    },
    {
      "cell_type": "markdown",
      "metadata": {
        "id": "l-ZZ-3zOEgeD",
        "colab_type": "text"
      },
      "source": [
        "Preparing the data for the model is an important task. In case of images, standard preparation techniques include rescaling, resizing and data augmentation (if needed). Keras provides ImageDataGenerator class for data preparation. We will be defining three different ImageDataGenerators for train, validation and test sets respectively. \n",
        "\n",
        "Rescaling of images is defined within the ImageDataGenerator."
      ]
    },
    {
      "cell_type": "code",
      "metadata": {
        "id": "m2magZPxEDGM",
        "colab_type": "code",
        "colab": {}
      },
      "source": [
        "batch_size=64\n",
        "\n",
        "train_datagen = ImageDataGenerator(rescale=1./255)\n",
        "val_datagen = ImageDataGenerator(rescale=1./255)\n",
        "test_datagen = ImageDataGenerator(rescale=1./255)"
      ],
      "execution_count": 0,
      "outputs": []
    },
    {
      "cell_type": "markdown",
      "metadata": {
        "id": "cmK0q5B3FRJo",
        "colab_type": "text"
      },
      "source": [
        "In this case batch size is a paramter which can be tuned and the evaluation metric may also vary with different batch_size."
      ]
    },
    {
      "cell_type": "markdown",
      "metadata": {
        "id": "tybTMdylF2Cw",
        "colab_type": "text"
      },
      "source": [
        "The Image data generator is used for returning configured images using the flow functions. We will be using the flow_from_directory to configure the images. There are other ways which can found here https://keras.io/preprocessing/image/\n",
        "\n",
        "In this code block, the paramter that can be tuned is the target size of the image. "
      ]
    },
    {
      "cell_type": "code",
      "metadata": {
        "id": "HhA_KOMvFQey",
        "colab_type": "code",
        "outputId": "509c6d70-21c7-4dee-921f-582f7bb55b93",
        "colab": {
          "base_uri": "https://localhost:8080/",
          "height": 68
        }
      },
      "source": [
        "train_generator = train_datagen.flow_from_directory(\n",
        "            'train/',  # this is the target directory\n",
        "            target_size=(150, 150),  # all images will be resized to 150x150\n",
        "            batch_size=batch_size,\n",
        "            class_mode='categorical',shuffle=True)\n",
        "\n",
        "val_generator = val_datagen.flow_from_directory(\n",
        "        'val/',  # this is the target directory\n",
        "        target_size=(150, 150),\n",
        "        batch_size=batch_size,\n",
        "        class_mode='categorical',shuffle=False)\n",
        "\n",
        "\n",
        "test_generator = test_datagen.flow_from_directory(\n",
        "        'DATASET/TEST/',  # this is the target directory\n",
        "        target_size=(150, 150),\n",
        "        batch_size=batch_size,\n",
        "        class_mode='categorical',shuffle=False)"
      ],
      "execution_count": 11,
      "outputs": [
        {
          "output_type": "stream",
          "text": [
            "Found 18050 images belonging to 2 classes.\n",
            "Found 4514 images belonging to 2 classes.\n",
            "Found 2513 images belonging to 2 classes.\n"
          ],
          "name": "stdout"
        }
      ]
    },
    {
      "cell_type": "markdown",
      "metadata": {
        "id": "sqgeMZnUWNvJ",
        "colab_type": "text"
      },
      "source": [
        "# Baseline"
      ]
    },
    {
      "cell_type": "markdown",
      "metadata": {
        "id": "fWw5l9nSG5dT",
        "colab_type": "text"
      },
      "source": [
        "## Model Defintion and Compilation"
      ]
    },
    {
      "cell_type": "code",
      "metadata": {
        "id": "NRh03Xng41Kx",
        "colab_type": "code",
        "outputId": "9a40f8e7-7e89-47bf-f97f-16ae2918b5a0",
        "colab": {
          "base_uri": "https://localhost:8080/",
          "height": 445
        }
      },
      "source": [
        "num_classes = 2\n",
        "input_shape = (150, 150, 3)\n",
        "\n",
        "cnn_small_bn = Sequential([\n",
        "    Conv2D(8, kernel_size = (3,3), input_shape=input_shape, activation='relu'),\n",
        "    MaxPooling2D(pool_size=(2, 2)),\n",
        "    Conv2D(8, kernel_size = (3,3), activation='relu'),\n",
        "    MaxPooling2D(pool_size=(2, 2)),\n",
        "    Flatten(),\n",
        "    Dense(num_classes, activation='softmax'),\n",
        "                 ])\n",
        "\n",
        "cnn_small_bn.summary()\n",
        "\n",
        "cnn_small_bn.compile(\"adam\", \"categorical_crossentropy\",\n",
        "                     metrics=['accuracy'])\n"
      ],
      "execution_count": 12,
      "outputs": [
        {
          "output_type": "stream",
          "text": [
            "WARNING: Logging before flag parsing goes to stderr.\n",
            "W0729 14:39:13.320167 139979370592128 deprecation.py:506] From /usr/local/lib/python3.6/dist-packages/tensorflow/python/ops/init_ops.py:1251: calling VarianceScaling.__init__ (from tensorflow.python.ops.init_ops) with dtype is deprecated and will be removed in a future version.\n",
            "Instructions for updating:\n",
            "Call initializer instance with the dtype argument instead of passing it to the constructor\n"
          ],
          "name": "stderr"
        },
        {
          "output_type": "stream",
          "text": [
            "Model: \"sequential\"\n",
            "_________________________________________________________________\n",
            "Layer (type)                 Output Shape              Param #   \n",
            "=================================================================\n",
            "conv2d (Conv2D)              (None, 148, 148, 8)       224       \n",
            "_________________________________________________________________\n",
            "max_pooling2d (MaxPooling2D) (None, 74, 74, 8)         0         \n",
            "_________________________________________________________________\n",
            "conv2d_1 (Conv2D)            (None, 72, 72, 8)         584       \n",
            "_________________________________________________________________\n",
            "max_pooling2d_1 (MaxPooling2 (None, 36, 36, 8)         0         \n",
            "_________________________________________________________________\n",
            "flatten (Flatten)            (None, 10368)             0         \n",
            "_________________________________________________________________\n",
            "dense (Dense)                (None, 2)                 20738     \n",
            "=================================================================\n",
            "Total params: 21,546\n",
            "Trainable params: 21,546\n",
            "Non-trainable params: 0\n",
            "_________________________________________________________________\n"
          ],
          "name": "stdout"
        }
      ]
    },
    {
      "cell_type": "markdown",
      "metadata": {
        "id": "USy-U69ZHlkN",
        "colab_type": "text"
      },
      "source": [
        "## Model Training"
      ]
    },
    {
      "cell_type": "code",
      "metadata": {
        "id": "5axwSbQE5GzU",
        "colab_type": "code",
        "outputId": "1c6c404a-77f2-4bc7-b462-d816635b9965",
        "colab": {
          "base_uri": "https://localhost:8080/",
          "height": 1000
        }
      },
      "source": [
        "train_size = train_generator.samples\n",
        "val_size = val_generator.samples\n",
        "\n",
        "\n",
        "history_cnn = cnn_small_bn.fit_generator(\n",
        "    train_generator,\n",
        "    steps_per_epoch=train_size/batch_size,\n",
        "    epochs=50,\n",
        "    verbose=1,\n",
        "    validation_data=val_generator,\n",
        "    validation_steps=val_size/ batch_size)\n"
      ],
      "execution_count": 14,
      "outputs": [
        {
          "output_type": "stream",
          "text": [
            "Epoch 1/50\n",
            "283/282 [==============================] - 33s 116ms/step - loss: 0.5277 - acc: 0.7657 - val_loss: 0.4224 - val_acc: 0.8132\n",
            "Epoch 2/50\n",
            "283/282 [==============================] - 29s 101ms/step - loss: 0.4184 - acc: 0.8132 - val_loss: 0.4523 - val_acc: 0.7920\n",
            "Epoch 3/50\n",
            "283/282 [==============================] - 29s 101ms/step - loss: 0.3895 - acc: 0.8304 - val_loss: 0.3945 - val_acc: 0.8316\n",
            "Epoch 4/50\n",
            "283/282 [==============================] - 28s 100ms/step - loss: 0.3775 - acc: 0.8380 - val_loss: 0.3788 - val_acc: 0.8463\n",
            "Epoch 5/50\n",
            "283/282 [==============================] - 28s 100ms/step - loss: 0.3580 - acc: 0.8475 - val_loss: 0.3849 - val_acc: 0.8416\n",
            "Epoch 6/50\n",
            "283/282 [==============================] - 29s 102ms/step - loss: 0.3438 - acc: 0.8555 - val_loss: 0.3772 - val_acc: 0.8440\n",
            "Epoch 7/50\n",
            "283/282 [==============================] - 29s 102ms/step - loss: 0.3279 - acc: 0.8623 - val_loss: 0.3865 - val_acc: 0.8376\n",
            "Epoch 8/50\n",
            "283/282 [==============================] - 28s 100ms/step - loss: 0.3126 - acc: 0.8717 - val_loss: 0.3785 - val_acc: 0.8482\n",
            "Epoch 9/50\n",
            "283/282 [==============================] - 28s 100ms/step - loss: 0.3084 - acc: 0.8730 - val_loss: 0.3853 - val_acc: 0.8463\n",
            "Epoch 10/50\n",
            "283/282 [==============================] - 29s 101ms/step - loss: 0.2986 - acc: 0.8797 - val_loss: 0.3757 - val_acc: 0.8522\n",
            "Epoch 11/50\n",
            "283/282 [==============================] - 29s 101ms/step - loss: 0.2877 - acc: 0.8806 - val_loss: 0.3970 - val_acc: 0.8418\n",
            "Epoch 12/50\n",
            "283/282 [==============================] - 28s 100ms/step - loss: 0.2753 - acc: 0.8886 - val_loss: 0.4024 - val_acc: 0.8394\n",
            "Epoch 13/50\n",
            "283/282 [==============================] - 28s 100ms/step - loss: 0.2763 - acc: 0.8878 - val_loss: 0.3933 - val_acc: 0.8427\n",
            "Epoch 14/50\n",
            "283/282 [==============================] - 29s 101ms/step - loss: 0.2659 - acc: 0.8912 - val_loss: 0.4084 - val_acc: 0.8361\n",
            "Epoch 15/50\n",
            "283/282 [==============================] - 29s 101ms/step - loss: 0.2478 - acc: 0.9020 - val_loss: 0.4341 - val_acc: 0.8285\n",
            "Epoch 16/50\n",
            "283/282 [==============================] - 28s 100ms/step - loss: 0.2374 - acc: 0.9051 - val_loss: 0.4444 - val_acc: 0.8299\n",
            "Epoch 17/50\n",
            "283/282 [==============================] - 28s 100ms/step - loss: 0.2305 - acc: 0.9100 - val_loss: 0.4974 - val_acc: 0.8097\n",
            "Epoch 18/50\n",
            "283/282 [==============================] - 28s 101ms/step - loss: 0.2218 - acc: 0.9125 - val_loss: 0.4496 - val_acc: 0.8259\n",
            "Epoch 19/50\n",
            "283/282 [==============================] - 28s 99ms/step - loss: 0.2054 - acc: 0.9197 - val_loss: 0.4716 - val_acc: 0.8352\n",
            "Epoch 20/50\n",
            "283/282 [==============================] - 28s 100ms/step - loss: 0.2037 - acc: 0.9206 - val_loss: 0.5110 - val_acc: 0.8110\n",
            "Epoch 21/50\n",
            "283/282 [==============================] - 28s 100ms/step - loss: 0.1935 - acc: 0.9258 - val_loss: 0.4841 - val_acc: 0.8307\n",
            "Epoch 22/50\n",
            "283/282 [==============================] - 28s 99ms/step - loss: 0.1934 - acc: 0.9252 - val_loss: 0.4729 - val_acc: 0.8339\n",
            "Epoch 23/50\n",
            "283/282 [==============================] - 28s 99ms/step - loss: 0.1707 - acc: 0.9361 - val_loss: 0.5536 - val_acc: 0.8199\n",
            "Epoch 24/50\n",
            "283/282 [==============================] - 28s 98ms/step - loss: 0.1625 - acc: 0.9374 - val_loss: 0.5690 - val_acc: 0.8170\n",
            "Epoch 25/50\n",
            "283/282 [==============================] - 28s 98ms/step - loss: 0.1612 - acc: 0.9409 - val_loss: 0.5436 - val_acc: 0.8254\n",
            "Epoch 26/50\n",
            "283/282 [==============================] - 28s 98ms/step - loss: 0.1448 - acc: 0.9468 - val_loss: 0.5729 - val_acc: 0.8214\n",
            "Epoch 27/50\n",
            "283/282 [==============================] - 28s 99ms/step - loss: 0.1494 - acc: 0.9418 - val_loss: 0.5932 - val_acc: 0.8106\n",
            "Epoch 28/50\n",
            "283/282 [==============================] - 28s 100ms/step - loss: 0.1874 - acc: 0.9273 - val_loss: 0.5888 - val_acc: 0.8252\n",
            "Epoch 29/50\n",
            "283/282 [==============================] - 28s 101ms/step - loss: 0.1637 - acc: 0.9401 - val_loss: 0.5961 - val_acc: 0.8181\n",
            "Epoch 30/50\n",
            "283/282 [==============================] - 28s 99ms/step - loss: 0.1269 - acc: 0.9550 - val_loss: 0.6654 - val_acc: 0.8124\n",
            "Epoch 31/50\n",
            "283/282 [==============================] - 28s 100ms/step - loss: 0.1151 - acc: 0.9611 - val_loss: 0.6678 - val_acc: 0.8135\n",
            "Epoch 32/50\n",
            "283/282 [==============================] - 28s 98ms/step - loss: 0.1113 - acc: 0.9617 - val_loss: 0.6953 - val_acc: 0.8172\n",
            "Epoch 33/50\n",
            "283/282 [==============================] - 28s 98ms/step - loss: 0.1113 - acc: 0.9612 - val_loss: 0.6767 - val_acc: 0.8099\n",
            "Epoch 34/50\n",
            "283/282 [==============================] - 28s 98ms/step - loss: 0.1350 - acc: 0.9512 - val_loss: 0.7321 - val_acc: 0.8179\n",
            "Epoch 35/50\n",
            "283/282 [==============================] - 28s 98ms/step - loss: 0.1003 - acc: 0.9661 - val_loss: 0.7408 - val_acc: 0.8115\n",
            "Epoch 36/50\n",
            "283/282 [==============================] - 28s 98ms/step - loss: 0.0955 - acc: 0.9689 - val_loss: 0.7850 - val_acc: 0.8117\n",
            "Epoch 37/50\n",
            "283/282 [==============================] - 28s 98ms/step - loss: 0.1007 - acc: 0.9647 - val_loss: 0.7856 - val_acc: 0.8044\n",
            "Epoch 38/50\n",
            "283/282 [==============================] - 28s 97ms/step - loss: 0.0871 - acc: 0.9707 - val_loss: 0.8463 - val_acc: 0.7986\n",
            "Epoch 39/50\n",
            "283/282 [==============================] - 28s 98ms/step - loss: 0.0792 - acc: 0.9761 - val_loss: 0.8715 - val_acc: 0.8075\n",
            "Epoch 40/50\n",
            "283/282 [==============================] - 28s 99ms/step - loss: 0.0776 - acc: 0.9746 - val_loss: 0.9022 - val_acc: 0.8033\n",
            "Epoch 41/50\n",
            "283/282 [==============================] - 28s 98ms/step - loss: 0.0753 - acc: 0.9757 - val_loss: 0.8997 - val_acc: 0.8077\n",
            "Epoch 42/50\n",
            "283/282 [==============================] - 27s 97ms/step - loss: 0.0683 - acc: 0.9796 - val_loss: 0.9186 - val_acc: 0.8168\n",
            "Epoch 43/50\n",
            "283/282 [==============================] - 28s 99ms/step - loss: 0.0815 - acc: 0.9726 - val_loss: 0.9286 - val_acc: 0.8044\n",
            "Epoch 44/50\n",
            "283/282 [==============================] - 28s 98ms/step - loss: 0.0725 - acc: 0.9765 - val_loss: 0.9944 - val_acc: 0.8079\n",
            "Epoch 45/50\n",
            "283/282 [==============================] - 27s 96ms/step - loss: 0.0608 - acc: 0.9825 - val_loss: 1.0212 - val_acc: 0.8019\n",
            "Epoch 46/50\n",
            "283/282 [==============================] - 27s 97ms/step - loss: 0.0646 - acc: 0.9787 - val_loss: 1.0335 - val_acc: 0.8075\n",
            "Epoch 47/50\n",
            "283/282 [==============================] - 27s 96ms/step - loss: 0.0595 - acc: 0.9818 - val_loss: 1.0385 - val_acc: 0.7984\n",
            "Epoch 48/50\n",
            "283/282 [==============================] - 27s 96ms/step - loss: 0.0512 - acc: 0.9853 - val_loss: 1.1059 - val_acc: 0.7942\n",
            "Epoch 49/50\n",
            "283/282 [==============================] - 27s 96ms/step - loss: 0.0607 - acc: 0.9810 - val_loss: 1.1202 - val_acc: 0.7938\n",
            "Epoch 50/50\n",
            "283/282 [==============================] - 27s 96ms/step - loss: 0.0500 - acc: 0.9856 - val_loss: 1.1668 - val_acc: 0.7977\n"
          ],
          "name": "stdout"
        }
      ]
    },
    {
      "cell_type": "code",
      "metadata": {
        "id": "4hUGgto_Hrkj",
        "colab_type": "code",
        "outputId": "64ca7e70-5142-40cb-bfc2-00bc339353e6",
        "colab": {
          "base_uri": "https://localhost:8080/",
          "height": 286
        }
      },
      "source": [
        "pd.DataFrame(history_cnn.history).plot()"
      ],
      "execution_count": 15,
      "outputs": [
        {
          "output_type": "execute_result",
          "data": {
            "text/plain": [
              "<matplotlib.axes._subplots.AxesSubplot at 0x7f4f28d1b2e8>"
            ]
          },
          "metadata": {
            "tags": []
          },
          "execution_count": 15
        },
        {
          "output_type": "display_data",
          "data": {
            "image/png": "[encoded data removed]",
            "text/plain": [
              "<Figure size 432x288 with 1 Axes>"
            ]
          },
          "metadata": {
            "tags": []
          }
        }
      ]
    },
    {
      "cell_type": "code",
      "metadata": {
        "id": "EzpDfCj87A8g",
        "colab_type": "code",
        "outputId": "2039608d-fe3b-4527-9e42-dc036e721164",
        "colab": {
          "base_uri": "https://localhost:8080/",
          "height": 303
        }
      },
      "source": [
        "val_pred, val_classes = predict_from_generator(val_generator, cnn_small_bn)\n",
        "\n",
        "\n",
        "cnf_matrix_val = confusion_matrix(val_classes, val_pred)\n",
        "\n",
        "fig1 = sns.heatmap(cnf_matrix_val, annot=True, fmt=\"d\")\n",
        "\n",
        "\n",
        "print(\"The recall is \", recall_score(val_classes, val_pred))\n",
        "\n",
        "print(\"The precision is\", precision_score(val_classes, val_pred))"
      ],
      "execution_count": 16,
      "outputs": [
        {
          "output_type": "stream",
          "text": [
            "The recall is  0.761\n",
            "The precision is 0.7777210015329586\n"
          ],
          "name": "stdout"
        },
        {
          "output_type": "display_data",
          "data": {
            "image/png": "[encoded data removed]",
            "text/plain": [
              "<Figure size 432x288 with 2 Axes>"
            ]
          },
          "metadata": {
            "tags": []
          }
        }
      ]
    },
    {
      "cell_type": "code",
      "metadata": {
        "id": "77yMDx0SVxzu",
        "colab_type": "code",
        "outputId": "3e98d3fe-7b98-4f3f-e6b1-ece805186034",
        "colab": {
          "base_uri": "https://localhost:8080/",
          "height": 303
        }
      },
      "source": [
        "test_pred, test_classes = predict_from_generator(test_generator, cnn_small_bn)\n",
        "\n",
        "\n",
        "cnf_matrix_test = confusion_matrix(test_classes, test_pred)\n",
        "\n",
        "fig1 = sns.heatmap(cnf_matrix_test, annot=True, fmt=\"d\")\n",
        "\n",
        "\n",
        "print(\"The recall is \", recall_score(test_classes, test_pred))\n",
        "\n",
        "print(\"The precision is\", precision_score(test_classes, test_pred))"
      ],
      "execution_count": 17,
      "outputs": [
        {
          "output_type": "stream",
          "text": [
            "The recall is  0.6951438848920863\n",
            "The precision is 0.8814139110604333\n"
          ],
          "name": "stdout"
        },
        {
          "output_type": "display_data",
          "data": {
            "image/png": "[encoded data removed]",
            "text/plain": [
              "<Figure size 432x288 with 2 Axes>"
            ]
          },
          "metadata": {
            "tags": []
          }
        }
      ]
    },
    {
      "cell_type": "markdown",
      "metadata": {
        "id": "GP9H-bixs5-c",
        "colab_type": "text"
      },
      "source": [
        "# Improving Baseline (v1)"
      ]
    },
    {
      "cell_type": "code",
      "metadata": {
        "id": "peOgzP_EYQYC",
        "colab_type": "code",
        "outputId": "affce6e6-18d7-4bc6-ae11-519858cfb62a",
        "colab": {
          "base_uri": "https://localhost:8080/",
          "height": 493
        }
      },
      "source": [
        "num_classes = 2\n",
        "input_shape = (150, 150, 3)\n",
        "\n",
        "\n",
        "cnn_small_bn_v2 = Sequential([\n",
        "    \n",
        "    Conv2D(16, kernel_size = (4,4), input_shape=input_shape, activation='relu'),\n",
        "    MaxPooling2D(pool_size=(2, 2)),\n",
        "    Conv2D(16, kernel_size = (4,4), activation='relu'),\n",
        "    MaxPooling2D(pool_size=(2, 2)),\n",
        "    Conv2D(16, kernel_size = (4,4), activation='relu'),\n",
        "    MaxPooling2D(pool_size=(2, 2)),\n",
        "    Flatten(),\n",
        "    Dense(16),\n",
        "    Dropout(0.5),\n",
        "    Dense(num_classes, activation='softmax'),\n",
        "                 ])\n",
        "\n",
        "cnn_small_bn_v2.summary()\n",
        "\n",
        "cnn_small_bn_v2.compile(\"adam\", \"categorical_crossentropy\",\n",
        "                     metrics=['accuracy'])"
      ],
      "execution_count": 46,
      "outputs": [
        {
          "output_type": "stream",
          "text": [
            "Model: \"sequential_6\"\n",
            "_________________________________________________________________\n",
            "Layer (type)                 Output Shape              Param #   \n",
            "=================================================================\n",
            "conv2d_15 (Conv2D)           (None, 147, 147, 16)      784       \n",
            "_________________________________________________________________\n",
            "max_pooling2d_14 (MaxPooling (None, 73, 73, 16)        0         \n",
            "_________________________________________________________________\n",
            "conv2d_16 (Conv2D)           (None, 70, 70, 16)        4112      \n",
            "_________________________________________________________________\n",
            "max_pooling2d_15 (MaxPooling (None, 35, 35, 16)        0         \n",
            "_________________________________________________________________\n",
            "conv2d_17 (Conv2D)           (None, 32, 32, 16)        4112      \n",
            "_________________________________________________________________\n",
            "max_pooling2d_16 (MaxPooling (None, 16, 16, 16)        0         \n",
            "_________________________________________________________________\n",
            "flatten_6 (Flatten)          (None, 4096)              0         \n",
            "_________________________________________________________________\n",
            "dense_11 (Dense)             (None, 16)                65552     \n",
            "_________________________________________________________________\n",
            "dropout_5 (Dropout)          (None, 16)                0         \n",
            "_________________________________________________________________\n",
            "dense_12 (Dense)             (None, 2)                 34        \n",
            "=================================================================\n",
            "Total params: 74,594\n",
            "Trainable params: 74,594\n",
            "Non-trainable params: 0\n",
            "_________________________________________________________________\n"
          ],
          "name": "stdout"
        }
      ]
    },
    {
      "cell_type": "code",
      "metadata": {
        "id": "A1YKIVVOYQh2",
        "colab_type": "code",
        "outputId": "49841ce0-81b0-4e6a-a1d8-ee1e08fd770b",
        "colab": {
          "base_uri": "https://localhost:8080/",
          "height": 697
        }
      },
      "source": [
        "history_cnn = cnn_small_bn_v2.fit_generator(\n",
        "    train_generator,\n",
        "    steps_per_epoch=train_size/batch_size,\n",
        "    epochs=20,\n",
        "    verbose=1,\n",
        "    validation_data=val_generator,\n",
        "    validation_steps=val_size/ batch_size)\n"
      ],
      "execution_count": 47,
      "outputs": [
        {
          "output_type": "stream",
          "text": [
            "Epoch 1/20\n",
            "283/282 [==============================] - 30s 106ms/step - loss: 0.4856 - acc: 0.7828 - val_loss: 0.4061 - val_acc: 0.8228\n",
            "Epoch 2/20\n",
            "283/282 [==============================] - 29s 102ms/step - loss: 0.4327 - acc: 0.8156 - val_loss: 0.4429 - val_acc: 0.8090\n",
            "Epoch 3/20\n",
            "283/282 [==============================] - 29s 102ms/step - loss: 0.3852 - acc: 0.8372 - val_loss: 0.3561 - val_acc: 0.8509\n",
            "Epoch 4/20\n",
            "283/282 [==============================] - 29s 103ms/step - loss: 0.3631 - acc: 0.8516 - val_loss: 0.3728 - val_acc: 0.8451\n",
            "Epoch 5/20\n",
            "283/282 [==============================] - 30s 106ms/step - loss: 0.3416 - acc: 0.8612 - val_loss: 0.3806 - val_acc: 0.8474\n",
            "Epoch 6/20\n",
            "283/282 [==============================] - 29s 103ms/step - loss: 0.3335 - acc: 0.8693 - val_loss: 0.3237 - val_acc: 0.8655\n",
            "Epoch 7/20\n",
            "283/282 [==============================] - 29s 104ms/step - loss: 0.3199 - acc: 0.8732 - val_loss: 0.3294 - val_acc: 0.8633\n",
            "Epoch 8/20\n",
            "283/282 [==============================] - 29s 103ms/step - loss: 0.3008 - acc: 0.8809 - val_loss: 0.3557 - val_acc: 0.8545\n",
            "Epoch 9/20\n",
            "283/282 [==============================] - 29s 103ms/step - loss: 0.3009 - acc: 0.8801 - val_loss: 0.3304 - val_acc: 0.8669\n",
            "Epoch 10/20\n",
            "283/282 [==============================] - 29s 103ms/step - loss: 0.2849 - acc: 0.8888 - val_loss: 0.3606 - val_acc: 0.8498\n",
            "Epoch 11/20\n",
            "283/282 [==============================] - 29s 102ms/step - loss: 0.2674 - acc: 0.8940 - val_loss: 0.3790 - val_acc: 0.8529\n",
            "Epoch 12/20\n",
            "283/282 [==============================] - 29s 102ms/step - loss: 0.2576 - acc: 0.9030 - val_loss: 0.3470 - val_acc: 0.8633\n",
            "Epoch 13/20\n",
            "283/282 [==============================] - 29s 103ms/step - loss: 0.2478 - acc: 0.9055 - val_loss: 0.3688 - val_acc: 0.8576\n",
            "Epoch 14/20\n",
            "283/282 [==============================] - 29s 103ms/step - loss: 0.2295 - acc: 0.9117 - val_loss: 0.3761 - val_acc: 0.8567\n",
            "Epoch 15/20\n",
            "283/282 [==============================] - 29s 101ms/step - loss: 0.2256 - acc: 0.9140 - val_loss: 0.3781 - val_acc: 0.8558\n",
            "Epoch 16/20\n",
            "283/282 [==============================] - 29s 103ms/step - loss: 0.2156 - acc: 0.9161 - val_loss: 0.4047 - val_acc: 0.8536\n",
            "Epoch 17/20\n",
            "283/282 [==============================] - 29s 102ms/step - loss: 0.2054 - acc: 0.9219 - val_loss: 0.4043 - val_acc: 0.8516\n",
            "Epoch 18/20\n",
            "283/282 [==============================] - 29s 102ms/step - loss: 0.1918 - acc: 0.9252 - val_loss: 0.4147 - val_acc: 0.8518\n",
            "Epoch 19/20\n",
            "283/282 [==============================] - 29s 102ms/step - loss: 0.1915 - acc: 0.9293 - val_loss: 0.4253 - val_acc: 0.8536\n",
            "Epoch 20/20\n",
            "283/282 [==============================] - 29s 102ms/step - loss: 0.1836 - acc: 0.9308 - val_loss: 0.5102 - val_acc: 0.8538\n"
          ],
          "name": "stdout"
        }
      ]
    },
    {
      "cell_type": "code",
      "metadata": {
        "id": "vRo2WU7394JQ",
        "colab_type": "code",
        "outputId": "4eb5ea18-979d-4d0b-840d-c017625e68fc",
        "colab": {
          "base_uri": "https://localhost:8080/",
          "height": 286
        }
      },
      "source": [
        "pd.DataFrame(history_cnn.history).plot()"
      ],
      "execution_count": 48,
      "outputs": [
        {
          "output_type": "execute_result",
          "data": {
            "text/plain": [
              "<matplotlib.axes._subplots.AxesSubplot at 0x7f4eca139d68>"
            ]
          },
          "metadata": {
            "tags": []
          },
          "execution_count": 48
        },
        {
          "output_type": "display_data",
          "data": {
            "image/png": "[encoded data removed]",
            "text/plain": [
              "<Figure size 432x288 with 1 Axes>"
            ]
          },
          "metadata": {
            "tags": []
          }
        }
      ]
    },
    {
      "cell_type": "code",
      "metadata": {
        "id": "Jgl6i9wpYQk2",
        "colab_type": "code",
        "outputId": "7b288de8-a331-4ec3-d951-36b292485253",
        "colab": {
          "base_uri": "https://localhost:8080/",
          "height": 303
        }
      },
      "source": [
        "\n",
        "val_pred, val_classes = predict_from_generator(val_generator, cnn_small_bn_v2)\n",
        "\n",
        "\n",
        "cnf_matrix_val = confusion_matrix(val_classes, val_pred)\n",
        "\n",
        "fig1 = sns.heatmap(cnf_matrix_val, annot=True, fmt=\"d\")\n",
        "\n",
        "print(\"The recall is \", recall_score(val_classes, val_pred))\n",
        "\n",
        "print(\"The precision is\", precision_score(val_classes, val_pred))"
      ],
      "execution_count": 49,
      "outputs": [
        {
          "output_type": "stream",
          "text": [
            "The recall is  0.7745\n",
            "The precision is 0.8811149032992036\n"
          ],
          "name": "stdout"
        },
        {
          "output_type": "display_data",
          "data": {
            "image/png": "[encoded data removed]",
            "text/plain": [
              "<Figure size 432x288 with 2 Axes>"
            ]
          },
          "metadata": {
            "tags": []
          }
        }
      ]
    },
    {
      "cell_type": "code",
      "metadata": {
        "id": "d_MzU8sfYQno",
        "colab_type": "code",
        "outputId": "d9a705cf-1403-4130-d06a-0366ce995678",
        "colab": {
          "base_uri": "https://localhost:8080/",
          "height": 303
        }
      },
      "source": [
        "test_pred, test_classes = predict_from_generator(test_generator, cnn_small_bn_v2)\n",
        "\n",
        "\n",
        "cnf_matrix_test = confusion_matrix(test_classes, test_pred)\n",
        "\n",
        "fig1 = sns.heatmap(cnf_matrix_test, annot=True, fmt=\"d\")\n",
        "\n",
        "\n",
        "print(\"The recall is \", recall_score(test_classes, test_pred))\n",
        "\n",
        "print(\"The precision is\", precision_score(test_classes, test_pred))"
      ],
      "execution_count": 50,
      "outputs": [
        {
          "output_type": "stream",
          "text": [
            "The recall is  0.7526978417266187\n",
            "The precision is 0.9468325791855203\n"
          ],
          "name": "stdout"
        },
        {
          "output_type": "display_data",
          "data": {
            "image/png": "[encoded data removed]",
            "text/plain": [
              "<Figure size 432x288 with 2 Axes>"
            ]
          },
          "metadata": {
            "tags": []
          }
        }
      ]
    },
    {
      "cell_type": "markdown",
      "metadata": {
        "id": "ymCogJoFXb1R",
        "colab_type": "text"
      },
      "source": [
        "## Improving Baseline (v2)"
      ]
    },
    {
      "cell_type": "code",
      "metadata": {
        "id": "iBTAv-MrXbEC",
        "colab_type": "code",
        "colab": {
          "base_uri": "https://localhost:8080/",
          "height": 527
        },
        "outputId": "cd1fac40-1cc1-43a0-ed72-00ad6f54b59a"
      },
      "source": [
        "num_classes = 2\n",
        "input_shape = (150, 150, 3)\n",
        "\n",
        "\n",
        "cnn_small_bn_v3 = Sequential([\n",
        "    \n",
        "    Conv2D(16, kernel_size = (4,4), input_shape=input_shape, activation='relu'),\n",
        "    MaxPooling2D(pool_size=(2, 2)),\n",
        "    Conv2D(16, kernel_size = (4,4), activation='relu'),\n",
        "    MaxPooling2D(pool_size=(2, 2)),\n",
        "    Conv2D(16, kernel_size = (4,4), activation='relu'),\n",
        "    MaxPooling2D(pool_size=(2, 2)),\n",
        "    Conv2D(16, kernel_size = (4,4), activation='relu'),\n",
        "    MaxPooling2D(pool_size=(2, 2)),\n",
        "\n",
        "    Flatten(),\n",
        "    Dense(16),\n",
        "    Dropout(0.5),\n",
        "    Dense(num_classes, activation='softmax'),\n",
        "                 ])\n",
        "\n",
        "cnn_small_bn_v3.summary()\n",
        "\n",
        "cnn_small_bn_v3.compile(\"adam\", \"categorical_crossentropy\",\n",
        "                     metrics=['accuracy'])"
      ],
      "execution_count": 41,
      "outputs": [
        {
          "output_type": "stream",
          "text": [
            "Model: \"sequential_5\"\n",
            "_________________________________________________________________\n",
            "Layer (type)                 Output Shape              Param #   \n",
            "=================================================================\n",
            "conv2d_11 (Conv2D)           (None, 147, 147, 16)      784       \n",
            "_________________________________________________________________\n",
            "max_pooling2d_11 (MaxPooling (None, 73, 73, 16)        0         \n",
            "_________________________________________________________________\n",
            "conv2d_12 (Conv2D)           (None, 70, 70, 16)        4112      \n",
            "_________________________________________________________________\n",
            "max_pooling2d_12 (MaxPooling (None, 35, 35, 16)        0         \n",
            "_________________________________________________________________\n",
            "conv2d_13 (Conv2D)           (None, 32, 32, 16)        4112      \n",
            "_________________________________________________________________\n",
            "max_pooling2d_13 (MaxPooling (None, 16, 16, 16)        0         \n",
            "_________________________________________________________________\n",
            "conv2d_14 (Conv2D)           (None, 13, 13, 16)        4112      \n",
            "_________________________________________________________________\n",
            "flatten_5 (Flatten)          (None, 2704)              0         \n",
            "_________________________________________________________________\n",
            "dense_9 (Dense)              (None, 16)                43280     \n",
            "_________________________________________________________________\n",
            "dropout_4 (Dropout)          (None, 16)                0         \n",
            "_________________________________________________________________\n",
            "dense_10 (Dense)             (None, 2)                 34        \n",
            "=================================================================\n",
            "Total params: 56,434\n",
            "Trainable params: 56,434\n",
            "Non-trainable params: 0\n",
            "_________________________________________________________________\n"
          ],
          "name": "stdout"
        }
      ]
    },
    {
      "cell_type": "code",
      "metadata": {
        "id": "wbq0a-cGA4K1",
        "colab_type": "code",
        "colab": {
          "base_uri": "https://localhost:8080/",
          "height": 697
        },
        "outputId": "e51c17c6-5b1d-48e9-f814-c78ac634a37b"
      },
      "source": [
        "history_cnn = cnn_small_bn_v3.fit_generator(\n",
        "    train_generator,\n",
        "    steps_per_epoch=train_size/batch_size,\n",
        "    epochs=20,\n",
        "    verbose=1,\n",
        "    validation_data=val_generator,\n",
        "    validation_steps=val_size/ batch_size)\n"
      ],
      "execution_count": 42,
      "outputs": [
        {
          "output_type": "stream",
          "text": [
            "Epoch 1/20\n",
            "283/282 [==============================] - 31s 109ms/step - loss: 0.4730 - acc: 0.7897 - val_loss: 0.4240 - val_acc: 0.8150\n",
            "Epoch 2/20\n",
            "283/282 [==============================] - 29s 104ms/step - loss: 0.4057 - acc: 0.8288 - val_loss: 0.3642 - val_acc: 0.8487\n",
            "Epoch 3/20\n",
            "283/282 [==============================] - 29s 103ms/step - loss: 0.3975 - acc: 0.8375 - val_loss: 0.3542 - val_acc: 0.8516\n",
            "Epoch 4/20\n",
            "283/282 [==============================] - 30s 106ms/step - loss: 0.3634 - acc: 0.8525 - val_loss: 0.3402 - val_acc: 0.8611\n",
            "Epoch 5/20\n",
            "283/282 [==============================] - 30s 104ms/step - loss: 0.3481 - acc: 0.8584 - val_loss: 0.3425 - val_acc: 0.8607\n",
            "Epoch 6/20\n",
            "283/282 [==============================] - 29s 104ms/step - loss: 0.3392 - acc: 0.8632 - val_loss: 0.3187 - val_acc: 0.8702\n",
            "Epoch 7/20\n",
            "283/282 [==============================] - 30s 105ms/step - loss: 0.3197 - acc: 0.8710 - val_loss: 0.3113 - val_acc: 0.8713\n",
            "Epoch 8/20\n",
            "283/282 [==============================] - 29s 102ms/step - loss: 0.3136 - acc: 0.8740 - val_loss: 0.3192 - val_acc: 0.8753\n",
            "Epoch 9/20\n",
            "283/282 [==============================] - 29s 102ms/step - loss: 0.2946 - acc: 0.8819 - val_loss: 0.3618 - val_acc: 0.8600\n",
            "Epoch 10/20\n",
            "283/282 [==============================] - 29s 103ms/step - loss: 0.2887 - acc: 0.8840 - val_loss: 0.3566 - val_acc: 0.8536\n",
            "Epoch 11/20\n",
            "283/282 [==============================] - 30s 105ms/step - loss: 0.2785 - acc: 0.8896 - val_loss: 0.3404 - val_acc: 0.8658\n",
            "Epoch 12/20\n",
            "283/282 [==============================] - 29s 102ms/step - loss: 0.2838 - acc: 0.8893 - val_loss: 0.3183 - val_acc: 0.8793\n",
            "Epoch 13/20\n",
            "283/282 [==============================] - 29s 102ms/step - loss: 0.2577 - acc: 0.8981 - val_loss: 0.3793 - val_acc: 0.8471\n",
            "Epoch 14/20\n",
            "283/282 [==============================] - 29s 102ms/step - loss: 0.2420 - acc: 0.9078 - val_loss: 0.3480 - val_acc: 0.8560\n",
            "Epoch 15/20\n",
            "283/282 [==============================] - 29s 103ms/step - loss: 0.2335 - acc: 0.9080 - val_loss: 0.3757 - val_acc: 0.8626\n",
            "Epoch 16/20\n",
            "283/282 [==============================] - 29s 102ms/step - loss: 0.2083 - acc: 0.9202 - val_loss: 0.4014 - val_acc: 0.8646\n",
            "Epoch 17/20\n",
            "283/282 [==============================] - 29s 102ms/step - loss: 0.2045 - acc: 0.9208 - val_loss: 0.4064 - val_acc: 0.8587\n",
            "Epoch 18/20\n",
            "283/282 [==============================] - 29s 102ms/step - loss: 0.1926 - acc: 0.9243 - val_loss: 0.4085 - val_acc: 0.8622\n",
            "Epoch 19/20\n",
            "283/282 [==============================] - 30s 104ms/step - loss: 0.1713 - acc: 0.9350 - val_loss: 0.4488 - val_acc: 0.8704\n",
            "Epoch 20/20\n",
            "283/282 [==============================] - 29s 103ms/step - loss: 0.1784 - acc: 0.9309 - val_loss: 0.4288 - val_acc: 0.8576\n"
          ],
          "name": "stdout"
        }
      ]
    },
    {
      "cell_type": "code",
      "metadata": {
        "id": "-NbSas_md9Uj",
        "colab_type": "code",
        "colab": {
          "base_uri": "https://localhost:8080/",
          "height": 286
        },
        "outputId": "893067d2-e063-42dc-b773-e1ef98861ee6"
      },
      "source": [
        "pd.DataFrame(history_cnn.history).plot()"
      ],
      "execution_count": 43,
      "outputs": [
        {
          "output_type": "execute_result",
          "data": {
            "text/plain": [
              "<matplotlib.axes._subplots.AxesSubplot at 0x7f4f244a67f0>"
            ]
          },
          "metadata": {
            "tags": []
          },
          "execution_count": 43
        },
        {
          "output_type": "display_data",
          "data": {
            "image/png": "[encoded data removed]",
            "text/plain": [
              "<Figure size 432x288 with 1 Axes>"
            ]
          },
          "metadata": {
            "tags": []
          }
        }
      ]
    },
    {
      "cell_type": "code",
      "metadata": {
        "id": "S6s8rP_geDkA",
        "colab_type": "code",
        "colab": {
          "base_uri": "https://localhost:8080/",
          "height": 303
        },
        "outputId": "ea76438e-780d-484c-efcf-cbc407d12a39"
      },
      "source": [
        "\n",
        "val_pred, val_classes = predict_from_generator(val_generator, cnn_small_bn_v3)\n",
        "\n",
        "\n",
        "cnf_matrix_val = confusion_matrix(val_classes, val_pred)\n",
        "\n",
        "fig1 = sns.heatmap(cnf_matrix_val, annot=True, fmt=\"d\")\n",
        "\n",
        "print(\"The recall is \", recall_score(val_classes, val_pred))\n",
        "\n",
        "print(\"The precision is\", precision_score(val_classes, val_pred))"
      ],
      "execution_count": 44,
      "outputs": [
        {
          "output_type": "stream",
          "text": [
            "The recall is  0.839\n",
            "The precision is 0.8394197098549274\n"
          ],
          "name": "stdout"
        },
        {
          "output_type": "display_data",
          "data": {
            "image/png": "[encoded data removed]",
            "text/plain": [
              "<Figure size 432x288 with 2 Axes>"
            ]
          },
          "metadata": {
            "tags": []
          }
        }
      ]
    },
    {
      "cell_type": "code",
      "metadata": {
        "id": "8Sp8QADSeOxm",
        "colab_type": "code",
        "colab": {
          "base_uri": "https://localhost:8080/",
          "height": 303
        },
        "outputId": "ec6bacd9-334e-47e5-e0c6-7f6fa81ff69e"
      },
      "source": [
        "test_pred, test_classes = predict_from_generator(test_generator, cnn_small_bn_v3)\n",
        "\n",
        "\n",
        "cnf_matrix_test = confusion_matrix(test_classes, test_pred)\n",
        "\n",
        "fig1 = sns.heatmap(cnf_matrix_test, annot=True, fmt=\"d\")\n",
        "\n",
        "\n",
        "print(\"The recall is \", recall_score(test_classes, test_pred))\n",
        "\n",
        "print(\"The precision is\", precision_score(test_classes, test_pred))"
      ],
      "execution_count": 45,
      "outputs": [
        {
          "output_type": "stream",
          "text": [
            "The recall is  0.8183453237410072\n",
            "The precision is 0.9090909090909091\n"
          ],
          "name": "stdout"
        },
        {
          "output_type": "display_data",
          "data": {
            "image/png": "[encoded data removed]",
            "text/plain": [
              "<Figure size 432x288 with 2 Axes>"
            ]
          },
          "metadata": {
            "tags": []
          }
        }
      ]
    },
    {
      "cell_type": "code",
      "metadata": {
        "id": "bqbNinbLaYS8",
        "colab_type": "code",
        "colab": {}
      },
      "source": [
        "# datagen = ImageDataGenerator(\n",
        "# rotation_range=40,\n",
        "# width_shift_range=0.2,\n",
        "# height_shift_range=0.2,\n",
        "# shear_range=0.2,\n",
        "# zoom_range=0.2,\n",
        "# horizontal_flip=True)"
      ],
      "execution_count": 0,
      "outputs": []
    }
  ]
}